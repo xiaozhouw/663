{
 "cells": [
  {
   "cell_type": "code",
   "execution_count": 1,
   "metadata": {
    "collapsed": false
   },
   "outputs": [],
   "source": [
    "import numpy as np\n",
    "from numpy import random\n",
    "from collections import deque\n",
    "import matplotlib.pyplot as plt\n",
    "import HMM\n",
    "import pandas as pd\n",
    "from hmmlearn import hmm"
   ]
  },
  {
   "cell_type": "markdown",
   "metadata": {},
   "source": [
    "# Benchmark of vectorization"
   ]
  },
  {
   "cell_type": "code",
   "execution_count": 2,
   "metadata": {
    "collapsed": false
   },
   "outputs": [],
   "source": [
    "pi=np.array([.3,.3,.4])\n",
    "A=np.array([[.2,.3,.5],[.1,.5,.4],[.6,.1,.3]])\n",
    "B=np.array([[0.1,0.5,0.4],[0.2,0.4,0.4],[0.3,0.6,0.1]])\n",
    "states,sequence=HMM.sim_HMM(A,B,pi,100)"
   ]
  },
  {
   "cell_type": "code",
   "execution_count": 3,
   "metadata": {
    "collapsed": false
   },
   "outputs": [
    {
     "name": "stdout",
     "output_type": "stream",
     "text": [
      "1 loop, best of 3: 3.21 s per loop\n",
      "1 loop, best of 3: 5.43 s per loop\n",
      "1 loop, best of 3: 1.31 s per loop\n",
      "1 loop, best of 3: 3.48 s per loop\n"
     ]
    }
   ],
   "source": [
    "%timeit HMM.Baum_Welch(A,B,pi,sequence,1000,0,scale=True)\n",
    "%timeit HMM.hmm_unoptimized.Baum_Welch(A,B,pi,sequence,1000,0,scale=True)\n",
    "%timeit HMM.Baum_Welch(A,B,pi,sequence,1000,0,scale=False)\n",
    "%timeit HMM.hmm_unoptimized.Baum_Welch(A,B,pi,sequence,1000,0,scale=False)"
   ]
  },
  {
   "cell_type": "markdown",
   "metadata": {},
   "source": [
    "# Simulations"
   ]
  },
  {
   "cell_type": "markdown",
   "metadata": {},
   "source": [
    "## Effect of chain length"
   ]
  },
  {
   "cell_type": "code",
   "execution_count": 4,
   "metadata": {
    "collapsed": true
   },
   "outputs": [],
   "source": [
    "A=np.array([[0.1,0.5,0.4],[0.3,0.5,0.2],[0.7,0.2,0.1]])\n",
    "B=np.array([[0.1,0.1,0.1,0.7],[0.5,0.5,0,0],[0.7,0.1,0.1,0.1]])\n",
    "pi=np.array([0.25,0.25,0.5])\n",
    "A_init=np.array([[0.2,0.6,0.2],[0.25,0.5,0.25],[0.6,0.2,0.2]])\n",
    "B_init=np.array([[0.05,0.1,0.15,0.7],[0.4,0.4,0.1,0.1],[0.6,0.2,0.2,0.2]])\n",
    "pi_init=np.array([0.3,0.3,0.4])"
   ]
  },
  {
   "cell_type": "code",
   "execution_count": 5,
   "metadata": {
    "collapsed": true
   },
   "outputs": [],
   "source": [
    "lengths=[50,100,200,500,1000]\n",
    "acc=[]\n",
    "k=30\n",
    "for i in lengths:\n",
    "    mean_acc=0\n",
    "    for j in range(k):\n",
    "        states,sequence=HMM.sim_HMM(A,B,pi,i)\n",
    "        Ahat,Bhat,pihat=HMM.Baum_Welch(A_init,B_init,pi_init,sequence,10,0,True)\n",
    "        seq_hat=HMM.Viterbi(Ahat,Bhat,pihat,sequence)\n",
    "        mean_acc=mean_acc+np.mean(seq_hat==states)\n",
    "    acc.append(mean_acc/k)"
   ]
  },
  {
   "cell_type": "code",
   "execution_count": 6,
   "metadata": {
    "collapsed": false
   },
   "outputs": [
    {
     "data": {
      "text/plain": [
       "[<matplotlib.lines.Line2D at 0x7fef9e807278>]"
      ]
     },
     "execution_count": 6,
     "metadata": {},
     "output_type": "execute_result"
    },
    {
     "data": {
      "image/png": "[encoded data removed]",
      "text/plain": [
       "<matplotlib.figure.Figure at 0x7fefa1dceb00>"
      ]
     },
     "metadata": {},
     "output_type": "display_data"
    }
   ],
   "source": [
    "plt.plot(lengths,acc)"
   ]
  },
  {
   "cell_type": "markdown",
   "metadata": {},
   "source": [
    "From the plot we can see that the length of the chain does have an effect on the performance of Baum-Welch Algorithm and Viterbi decoding. We can see that when the chain is too long, the algorithms tend to have a bad results. "
   ]
  },
  {
   "cell_type": "markdown",
   "metadata": {},
   "source": [
    "## Effects of initial values in Baum-Welch Algorithm"
   ]
  },
  {
   "cell_type": "code",
   "execution_count": 7,
   "metadata": {
    "collapsed": true
   },
   "outputs": [],
   "source": [
    "A=np.array([[0.1,0.5,0.4],[0.3,0.5,0.2],[0.7,0.2,0.1]])\n",
    "B=np.array([[0.1,0.1,0.1,0.7],[0.5,0.5,0,0],[0.7,0.1,0.1,0.1]])\n",
    "pi=np.array([0.25,0.25,0.5])"
   ]
  },
  {
   "cell_type": "code",
   "execution_count": 8,
   "metadata": {
    "collapsed": false
   },
   "outputs": [
    {
     "name": "stdout",
     "output_type": "stream",
     "text": [
      "Accuracy:  0.70964\n"
     ]
    }
   ],
   "source": [
    "############INITIAL VALUES 1###############\n",
    "A_init=np.array([[0.2,0.6,0.2],[0.25,0.5,0.25],[0.6,0.2,0.2]])\n",
    "B_init=np.array([[0.05,0.1,0.15,0.7],[0.4,0.4,0.1,0.1],[0.6,0.2,0.2,0.2]])\n",
    "pi_init=np.array([0.3,0.3,0.4])\n",
    "k=50\n",
    "acc=np.zeros(k)\n",
    "for i in range(k):\n",
    "    states,sequence=HMM.sim_HMM(A,B,pi,500)\n",
    "    Ahat,Bhat,pihat=HMM.Baum_Welch(A_init,B_init,pi_init,sequence,10,0,False)\n",
    "    seq_hat=HMM.Viterbi(Ahat,Bhat,pihat,sequence)\n",
    "    acc[i]=np.mean(seq_hat==states)\n",
    "print(\"Accuracy: \",np.mean(acc))"
   ]
  },
  {
   "cell_type": "code",
   "execution_count": 9,
   "metadata": {
    "collapsed": false
   },
   "outputs": [
    {
     "name": "stdout",
     "output_type": "stream",
     "text": [
      "Accuracy:  0.28896\n"
     ]
    }
   ],
   "source": [
    "############INITIAL VALUES 2###############\n",
    "A_init=np.array([[0.5,0.25,0.25],[0.1,0.4,0.5],[0.25,0.1,0.65]])\n",
    "B_init=np.array([[0.3,0.4,0.2,0.1],[0.1,0.5,0.2,0.2],[0.1,0.1,0.4,0.4]])\n",
    "pi_init=np.array([0.5,0.2,0.3])\n",
    "k=50\n",
    "acc=np.zeros(k)\n",
    "for i in range(k):\n",
    "    states,sequence=HMM.sim_HMM(A,B,pi,500)\n",
    "    Ahat,Bhat,pihat=HMM.Baum_Welch(A_init,B_init,pi_init,sequence,10,0,True)\n",
    "    seq_hat=HMM.Viterbi(Ahat,Bhat,pihat,sequence)\n",
    "    acc[i]=np.mean(seq_hat==states)\n",
    "print(\"Accuracy: \",np.mean(acc))"
   ]
  },
  {
   "cell_type": "code",
   "execution_count": 10,
   "metadata": {
    "collapsed": false
   },
   "outputs": [
    {
     "name": "stdout",
     "output_type": "stream",
     "text": [
      "Accuracy:  0.25124\n"
     ]
    }
   ],
   "source": [
    "############INITIAL VALUES 3###############\n",
    "A_init=np.array([[0.2,0.6,0.2],[0.25,0.5,0.25],[0.6,0.2,0.2]])\n",
    "B_init=np.array([[0.3,0.4,0.2,0.1],[0.1,0.5,0.2,0.2],[0.1,0.1,0.4,0.4]])\n",
    "pi_init=np.array([0.5,0.2,0.3])\n",
    "k=50\n",
    "acc=np.zeros(k)\n",
    "for i in range(k):\n",
    "    states,sequence=HMM.sim_HMM(A,B,pi,500)\n",
    "    Ahat,Bhat,pihat=HMM.Baum_Welch(A_init,B_init,pi_init,sequence,10,0,True)\n",
    "    seq_hat=HMM.Viterbi(Ahat,Bhat,pihat,sequence)\n",
    "    acc[i]=np.mean(seq_hat==states)\n",
    "print(\"Accuracy: \",np.mean(acc))"
   ]
  },
  {
   "cell_type": "code",
   "execution_count": 11,
   "metadata": {
    "collapsed": false
   },
   "outputs": [
    {
     "name": "stdout",
     "output_type": "stream",
     "text": [
      "Accuracy:  0.45792\n"
     ]
    }
   ],
   "source": [
    "############INITIAL VALUES 4###############\n",
    "A_init=np.array([[0.5,0.25,0.25],[0.1,0.4,0.5],[0.25,0.1,0.65]])\n",
    "B_init=np.array([[0.05,0.1,0.15,0.7],[0.4,0.4,0.1,0.1],[0.6,0.2,0.2,0.2]])\n",
    "pi_init=np.array([0.5,0.2,0.3])\n",
    "k=50\n",
    "acc=np.zeros(k)\n",
    "for i in range(k):\n",
    "    states,sequence=HMM.sim_HMM(A,B,pi,500)\n",
    "    Ahat,Bhat,pihat=HMM.Baum_Welch(A_init,B_init,pi_init,sequence,10,0,True)\n",
    "    seq_hat=HMM.Viterbi(Ahat,Bhat,pihat,sequence)\n",
    "    acc[i]=np.mean(seq_hat==states)\n",
    "print(\"Accuracy: \",np.mean(acc))"
   ]
  },
  {
   "cell_type": "markdown",
   "metadata": {},
   "source": [
    "From this part, we can see that the choice of initial values are greatly important. Because Baum-Welch algorithm does not guarantee global maximum, a bad choice of initial values will make Baum-Welch Algorithm to be trapped in a local maximum. Moreover, our experiments show that the initial values for emission matrix $B$ are more important by comparing initial values 3 and 4. The initial parameters represent your belief."
   ]
  },
  {
   "cell_type": "markdown",
   "metadata": {},
   "source": [
    "## Effect of number of iteration in Baum-Welch Algorithm"
   ]
  },
  {
   "cell_type": "code",
   "execution_count": 12,
   "metadata": {
    "collapsed": false
   },
   "outputs": [
    {
     "data": {
      "text/plain": [
       "[<matplotlib.lines.Line2D at 0x7fef9e725860>]"
      ]
     },
     "execution_count": 12,
     "metadata": {},
     "output_type": "execute_result"
    },
    {
     "data": {
      "image/png": "[encoded data removed]",
      "text/plain": [
       "<matplotlib.figure.Figure at 0x7fefa1b5ff60>"
      ]
     },
     "metadata": {},
     "output_type": "display_data"
    }
   ],
   "source": [
    "############INITIAL VALUES 1###############\n",
    "A_init=np.array([[0.2,0.6,0.2],[0.25,0.5,0.25],[0.6,0.2,0.2]])\n",
    "B_init=np.array([[0.05,0.1,0.15,0.7],[0.4,0.4,0.1,0.1],[0.6,0.2,0.2,0.2]])\n",
    "pi_init=np.array([0.3,0.3,0.4])\n",
    "n_iter=[1,5,10,25,50,100,500]\n",
    "acc=np.zeros([k,len(n_iter)])\n",
    "k=30\n",
    "for j in range(k):\n",
    "    states,sequence=HMM.sim_HMM(A,B,pi,100)\n",
    "    t=0\n",
    "    for i in n_iter:\n",
    "        Ahat,Bhat,pihat=HMM.Baum_Welch(A_init,B_init,pi_init,sequence,i,0,False)\n",
    "        seq_hat=HMM.Viterbi(Ahat,Bhat,pihat,sequence)\n",
    "        acc[j,t]=np.mean(seq_hat==states)\n",
    "        t+=1\n",
    "plt.plot(n_iter,np.mean(acc,axis=0))"
   ]
  },
  {
   "cell_type": "markdown",
   "metadata": {},
   "source": [
    "In this initial condition, we can see one feature of Baum-Welch Algorithm: Baum-Welch Algorithm tends to overfit the data, which is $P(Y|\\theta_{final})>P(Y|\\theta_{true})$. "
   ]
  },
  {
   "cell_type": "code",
   "execution_count": 13,
   "metadata": {
    "collapsed": false
   },
   "outputs": [
    {
     "data": {
      "text/plain": [
       "[<matplotlib.lines.Line2D at 0x7fef9e718400>]"
      ]
     },
     "execution_count": 13,
     "metadata": {},
     "output_type": "execute_result"
    },
    {
     "data": {
      "image/png": "[encoded data removed]",
      "text/plain": [
       "<matplotlib.figure.Figure at 0x7fefa1b5f208>"
      ]
     },
     "metadata": {},
     "output_type": "display_data"
    }
   ],
   "source": [
    "############INITIAL VALUES 2###############\n",
    "A_init=np.array([[0.5,0.25,0.25],[0.1,0.4,0.5],[0.25,0.1,0.65]])\n",
    "B_init=np.array([[0.3,0.4,0.2,0.1],[0.1,0.5,0.2,0.2],[0.1,0.1,0.4,0.4]])\n",
    "pi_init=np.array([0.5,0.2,0.3])\n",
    "n_iter=[1,5,10,25,50,100,500]\n",
    "acc=np.zeros([k,len(n_iter)])\n",
    "k=30\n",
    "for j in range(k):\n",
    "    states,sequence=HMM.sim_HMM(A,B,pi,100)\n",
    "    t=0\n",
    "    for i in n_iter:\n",
    "        Ahat,Bhat,pihat=HMM.Baum_Welch(A_init,B_init,pi_init,sequence,i,0,False)\n",
    "        seq_hat=HMM.Viterbi(Ahat,Bhat,pihat,sequence)\n",
    "        acc[j,t]=np.mean(seq_hat==states)\n",
    "        t+=1\n",
    "plt.plot(n_iter,np.mean(acc,axis=0))"
   ]
  },
  {
   "cell_type": "code",
   "execution_count": 14,
   "metadata": {
    "collapsed": false
   },
   "outputs": [
    {
     "data": {
      "text/plain": [
       "[<matplotlib.lines.Line2D at 0x7fef9e6793c8>]"
      ]
     },
     "execution_count": 14,
     "metadata": {},
     "output_type": "execute_result"
    },
    {
     "data": {
      "image/png": "[encoded data removed]",
      "text/plain": [
       "<matplotlib.figure.Figure at 0x7fefa1b5fd68>"
      ]
     },
     "metadata": {},
     "output_type": "display_data"
    }
   ],
   "source": [
    "############INITIAL VALUES 3###############\n",
    "A_init=np.array([[0.2,0.6,0.2],[0.25,0.5,0.25],[0.6,0.2,0.2]])\n",
    "B_init=np.array([[0.3,0.4,0.2,0.1],[0.1,0.5,0.2,0.2],[0.1,0.1,0.4,0.4]])\n",
    "pi_init=np.array([0.5,0.2,0.3])\n",
    "n_iter=[1,5,10,25,50,100,500]\n",
    "acc=np.zeros([k,len(n_iter)])\n",
    "k=30\n",
    "for j in range(k):\n",
    "    states,sequence=HMM.sim_HMM(A,B,pi,100)\n",
    "    t=0\n",
    "    for i in n_iter:\n",
    "        Ahat,Bhat,pihat=HMM.Baum_Welch(A_init,B_init,pi_init,sequence,i,0,False)\n",
    "        seq_hat=HMM.Viterbi(Ahat,Bhat,pihat,sequence)\n",
    "        acc[j,t]=np.mean(seq_hat==states)\n",
    "        t+=1\n",
    "plt.plot(n_iter,np.mean(acc,axis=0))"
   ]
  },
  {
   "cell_type": "code",
   "execution_count": 15,
   "metadata": {
    "collapsed": false
   },
   "outputs": [
    {
     "data": {
      "text/plain": [
       "[<matplotlib.lines.Line2D at 0x7fef9e651f28>]"
      ]
     },
     "execution_count": 15,
     "metadata": {},
     "output_type": "execute_result"
    },
    {
     "data": {
      "image/png": "[encoded data removed]",
      "text/plain": [
       "<matplotlib.figure.Figure at 0x7fefa1b581d0>"
      ]
     },
     "metadata": {},
     "output_type": "display_data"
    }
   ],
   "source": [
    "############INITIAL VALUES 4###############\n",
    "A_init=np.array([[0.5,0.25,0.25],[0.1,0.4,0.5],[0.25,0.1,0.65]])\n",
    "B_init=np.array([[0.05,0.1,0.15,0.7],[0.4,0.4,0.1,0.1],[0.6,0.2,0.2,0.2]])\n",
    "pi_init=np.array([0.5,0.2,0.3])\n",
    "n_iter=[1,5,10,25,50,100,500]\n",
    "acc=np.zeros([k,len(n_iter)])\n",
    "k=30\n",
    "for j in range(k):\n",
    "    states,sequence=HMM.sim_HMM(A,B,pi,100)\n",
    "    t=0\n",
    "    for i in n_iter:\n",
    "        Ahat,Bhat,pihat=HMM.Baum_Welch(A_init,B_init,pi_init,sequence,i,0,False)\n",
    "        seq_hat=HMM.Viterbi(Ahat,Bhat,pihat,sequence)\n",
    "        acc[j,t]=np.mean(seq_hat==states)\n",
    "        t+=1\n",
    "plt.plot(n_iter,np.mean(acc,axis=0))"
   ]
  },
  {
   "cell_type": "markdown",
   "metadata": {},
   "source": [
    "In other situations, increasing the number of iterations in Baum-Welch Algorithm tends to better fit the data."
   ]
  },
  {
   "cell_type": "markdown",
   "metadata": {},
   "source": [
    "# Applications"
   ]
  },
  {
   "cell_type": "code",
   "execution_count": 16,
   "metadata": {
    "collapsed": false
   },
   "outputs": [
    {
     "data": {
      "text/html": [
       "<div>\n",
       "<table border=\"1\" class=\"dataframe\">\n",
       "  <thead>\n",
       "    <tr style=\"text-align: right;\">\n",
       "      <th></th>\n",
       "      <th>0</th>\n",
       "      <th>1</th>\n",
       "    </tr>\n",
       "  </thead>\n",
       "  <tbody>\n",
       "    <tr>\n",
       "      <th>0</th>\n",
       "      <td>rainy</td>\n",
       "      <td>yes</td>\n",
       "    </tr>\n",
       "    <tr>\n",
       "      <th>1</th>\n",
       "      <td>foggy</td>\n",
       "      <td>no</td>\n",
       "    </tr>\n",
       "    <tr>\n",
       "      <th>2</th>\n",
       "      <td>sunny</td>\n",
       "      <td>no</td>\n",
       "    </tr>\n",
       "    <tr>\n",
       "      <th>3</th>\n",
       "      <td>sunny</td>\n",
       "      <td>no</td>\n",
       "    </tr>\n",
       "    <tr>\n",
       "      <th>4</th>\n",
       "      <td>sunny</td>\n",
       "      <td>no</td>\n",
       "    </tr>\n",
       "  </tbody>\n",
       "</table>\n",
       "</div>"
      ],
      "text/plain": [
       "       0    1\n",
       "0  rainy  yes\n",
       "1  foggy   no\n",
       "2  sunny   no\n",
       "3  sunny   no\n",
       "4  sunny   no"
      ]
     },
     "execution_count": 16,
     "metadata": {},
     "output_type": "execute_result"
    }
   ],
   "source": [
    "dat=pd.read_csv(\"data/weather-test2-1000.txt\",skiprows=1,header=None)\n",
    "dat.head(5)"
   ]
  },
  {
   "cell_type": "code",
   "execution_count": 17,
   "metadata": {
    "collapsed": false
   },
   "outputs": [
    {
     "name": "stdout",
     "output_type": "stream",
     "text": [
      "0.634\n"
     ]
    }
   ],
   "source": [
    "seq=dat[1].map({\"no\":0,\"yes\":1}).tolist()\n",
    "states=dat[0].map({\"sunny\":0,\"rainy\":1,\"foggy\":2})\n",
    "initial_A=np.array([[0.7,0.2,0.1],[0.3,0.6,0.1],[0.1,0.6,0.3]])\n",
    "initial_B=np.array([[0.9,0.1],[0.1,0.9],[0.4,0.6]])\n",
    "initial_pi=np.array([0.4,0.4,0.2])\n",
    "Ahat,Bhat,pihat=HMM.Baum_Welch(initial_A,initial_B,initial_pi,seq,max_iter=100,threshold=0,scale=True)\n",
    "states_hat=HMM.Viterbi(Ahat,Bhat,pihat,seq)\n",
    "print(np.mean(states_hat==states))"
   ]
  },
  {
   "cell_type": "markdown",
   "metadata": {},
   "source": [
    "# Comparative Analysis"
   ]
  },
  {
   "cell_type": "code",
   "execution_count": 18,
   "metadata": {
    "collapsed": false
   },
   "outputs": [],
   "source": [
    "A=np.array([[0.1,0.5,0.4],[0.3,0.5,0.2],[0.7,0.2,0.1]])\n",
    "B=np.array([[0.1,0.1,0.1,0.7],[0.5,0.5,0,0],[0.7,0.1,0.1,0.1]])\n",
    "pi=np.array([0.25,0.25,0.5])\n",
    "A_init=np.array([[0.2,0.6,0.2],[0.25,0.5,0.25],[0.6,0.2,0.2]])\n",
    "B_init=np.array([[0.05,0.1,0.15,0.7],[0.4,0.4,0.1,0.1],[0.6,0.2,0.2,0.2]])\n",
    "pi_init=np.array([0.3,0.3,0.4])\n",
    "states,sequence=HMM.sim_HMM(A,B,pi,100)"
   ]
  },
  {
   "cell_type": "markdown",
   "metadata": {},
   "source": [
    "## Comparing Viterbi decoding"
   ]
  },
  {
   "cell_type": "code",
   "execution_count": 19,
   "metadata": {
    "collapsed": false
   },
   "outputs": [
    {
     "name": "stderr",
     "output_type": "stream",
     "text": [
      "/opt/conda/lib/python3.5/site-packages/hmmlearn/hmm.py:405: RuntimeWarning: divide by zero encountered in log\n",
      "  return np.log(self.emissionprob_)[:, np.concatenate(X)].T\n"
     ]
    }
   ],
   "source": [
    "mod=hmm.MultinomialHMM(n_components=3)\n",
    "mod.startprob_=pi\n",
    "mod.transmat_=A\n",
    "mod.emissionprob_=B\n",
    "res_1=mod.decode(np.array(sequence).reshape([100,1]))[1]"
   ]
  },
  {
   "cell_type": "code",
   "execution_count": 20,
   "metadata": {
    "collapsed": false
   },
   "outputs": [],
   "source": [
    "res_2=HMM.Viterbi(A,B,pi,sequence)"
   ]
  },
  {
   "cell_type": "code",
   "execution_count": 21,
   "metadata": {
    "collapsed": false
   },
   "outputs": [
    {
     "data": {
      "text/plain": [
       "True"
      ]
     },
     "execution_count": 21,
     "metadata": {},
     "output_type": "execute_result"
    }
   ],
   "source": [
    "np.array_equal(res_1,res_2)"
   ]
  },
  {
   "cell_type": "code",
   "execution_count": 22,
   "metadata": {
    "collapsed": false
   },
   "outputs": [
    {
     "name": "stderr",
     "output_type": "stream",
     "text": [
      "/opt/conda/lib/python3.5/site-packages/hmmlearn/hmm.py:405: RuntimeWarning: divide by zero encountered in log\n",
      "  return np.log(self.emissionprob_)[:, np.concatenate(X)].T\n"
     ]
    },
    {
     "name": "stdout",
     "output_type": "stream",
     "text": [
      "100 loops, best of 3: 295 µs per loop\n",
      "100 loops, best of 3: 1.7 ms per loop\n"
     ]
    }
   ],
   "source": [
    "%timeit -n100 mod.decode(np.array(sequence).reshape([100,1]))\n",
    "%timeit -n100 HMM.Viterbi(A,B,pi,sequence)"
   ]
  },
  {
   "cell_type": "markdown",
   "metadata": {},
   "source": [
    "From the above we can see that we coded our Viterbi algorith correctly. But the time complexity is not good enought. When we check the source code of `hmmlearn`, we see that they used C to make things faster. In the future, we might want to use c++ to implement this algorithm and wrap it for python."
   ]
  },
  {
   "cell_type": "markdown",
   "metadata": {},
   "source": [
    "## Comparing Baum-Welch Algorithm"
   ]
  },
  {
   "cell_type": "code",
   "execution_count": 23,
   "metadata": {
    "collapsed": false
   },
   "outputs": [
    {
     "data": {
      "text/plain": [
       "[<matplotlib.lines.Line2D at 0x7fef9e56e518>]"
      ]
     },
     "execution_count": 23,
     "metadata": {},
     "output_type": "execute_result"
    },
    {
     "data": {
      "image/png": "[encoded data removed]",
      "text/plain": [
       "<matplotlib.figure.Figure at 0x7fef9e768a58>"
      ]
     },
     "metadata": {},
     "output_type": "display_data"
    }
   ],
   "source": [
    "k=50\n",
    "acc=[]\n",
    "for i in range(k):\n",
    "    Ahat,Bhat,pihat=HMM.Baum_Welch(A_init,B_init,pi_init,sequence,max_iter=10,threshold=0,scale=True)\n",
    "    states_hat=HMM.Viterbi(Ahat,Bhat,pihat,sequence)\n",
    "    acc.append(np.mean(states_hat==states))\n",
    "plt.plot(acc)"
   ]
  },
  {
   "cell_type": "code",
   "execution_count": 24,
   "metadata": {
    "collapsed": false,
    "scrolled": true
   },
   "outputs": [
    {
     "data": {
      "text/plain": [
       "[<matplotlib.lines.Line2D at 0x7fef9e5590f0>]"
      ]
     },
     "execution_count": 24,
     "metadata": {},
     "output_type": "execute_result"
    },
    {
     "data": {
      "image/png": "[encoded data removed]",
      "text/plain": [
       "<matplotlib.figure.Figure at 0x7fef9e5c30b8>"
      ]
     },
     "metadata": {},
     "output_type": "display_data"
    }
   ],
   "source": [
    "k=50\n",
    "acc=[]\n",
    "for i in range(k):\n",
    "    mod=hmm.MultinomialHMM(n_components=3)\n",
    "    mod=mod.fit(np.array(sequence).reshape([100,1]))\n",
    "    pred_states=mod.decode(np.array(sequence).reshape([100,1]))[1]\n",
    "    acc.append(np.mean(pred_states==states))\n",
    "plt.plot(acc)"
   ]
  },
  {
   "cell_type": "markdown",
   "metadata": {},
   "source": [
    "From the above results, we can see that our version gives a stable estimate because we specify initial values for Baum-Welch algorithm. However, the `mod.fit` in `hmmlearn` does not take in any initial values. This makes their function easy to use. However, this action may adversely affect the results. According to the authors of this package, they are modifying their package so that users can input their prior belief."
   ]
  }
 ],
 "metadata": {
  "kernelspec": {
   "display_name": "Python 3",
   "language": "python",
   "name": "python3"
  },
  "language_info": {
   "codemirror_mode": {
    "name": "ipython",
    "version": 3
   },
   "file_extension": ".py",
   "mimetype": "text/x-python",
   "name": "python",
   "nbconvert_exporter": "python",
   "pygments_lexer": "ipython3",
   "version": "3.5.2"
  }
 },
 "nbformat": 4,
 "nbformat_minor": 2
}
