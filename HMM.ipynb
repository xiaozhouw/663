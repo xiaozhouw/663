{
 "cells": [
  {
   "cell_type": "code",
   "execution_count": 1,
   "metadata": {
    "collapsed": true
   },
   "outputs": [],
   "source": [
    "class HMM:\n",
    "    def forward(A,B,pi,N,M,sequence):\n",
    "        '''\n",
    "        Only Consider B as a matrix, indicating finite discrete outcomes.\n",
    "        N: Number of states\n",
    "        B: R^{N*M}\n",
    "        A: R^{N*N}\n",
    "        '''\n",
    "        T=len(sequence)\n",
    "        alpha=np.zeros([T,N])\n",
    "        alpha[0]=pi*B[:,sequence[0]]\n",
    "        t=1\n",
    "        while True:\n",
    "            if t==T:\n",
    "                break\n",
    "            alpha[t]=alpha[t-1]@A*B[:,sequence[t]]\n",
    "            t+=1\n",
    "        return(np.sum(alpha[T-1]))"
   ]
  },
  {
   "cell_type": "code",
   "execution_count": 2,
   "metadata": {
    "collapsed": false
   },
   "outputs": [
    {
     "name": "stdout",
     "output_type": "stream",
     "text": [
      "0.030162\n"
     ]
    }
   ],
   "source": [
    "import numpy as np\n",
    "M=3\n",
    "N=3\n",
    "pi=np.array([.3,.3,.4])\n",
    "A=np.array([[.2,.3,.5],[.1,.5,.4],[.6,.1,.3]])\n",
    "B=np.array([[0.1,0.5,0.4],[0.2,0.4,0.4],[0.3,0.6,0.1]])\n",
    "sequence=[0,1,2]\n",
    "print(HMM.forward(A,B,pi,N,M,sequence))"
   ]
  }
 ],
 "metadata": {
  "kernelspec": {
   "display_name": "Python 3",
   "language": "python",
   "name": "python3"
  },
  "language_info": {
   "codemirror_mode": {
    "name": "ipython",
    "version": 3
   },
   "file_extension": ".py",
   "mimetype": "text/x-python",
   "name": "python",
   "nbconvert_exporter": "python",
   "pygments_lexer": "ipython3",
   "version": "3.6.0a1"
  }
 },
 "nbformat": 4,
 "nbformat_minor": 2
}
