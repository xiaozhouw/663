{
 "cells": [
  {
   "cell_type": "code",
   "execution_count": 1,
   "metadata": {
    "collapsed": true
   },
   "outputs": [],
   "source": [
    "import numpy as np\n",
    "from numba import jit"
   ]
  },
  {
   "cell_type": "code",
   "execution_count": 82,
   "metadata": {
    "collapsed": false
   },
   "outputs": [],
   "source": [
    "class HMM:\n",
    "    def forward(A,B,pi,sequence):\n",
    "        N=A.shape[0]\n",
    "        M=B.shape[1]\n",
    "        T=len(sequence)\n",
    "        alpha=np.zeros([T,N])\n",
    "        alpha[0]=pi*B[:,sequence[0]]\n",
    "        t=1\n",
    "        while True:\n",
    "            if t==T:\n",
    "                break\n",
    "            alpha[t]=alpha[t-1]@A*B[:,sequence[t]]\n",
    "            t+=1\n",
    "        return(np.sum(alpha[T-1]),alpha)\n",
    "    def backward(A,B,pi,sequence):\n",
    "        N=A.shape[0]\n",
    "        M=B.shape[1]\n",
    "        T=len(sequence)\n",
    "        beta=np.zeros([T,N])\n",
    "        beta[T-1]=1\n",
    "        t=T-2\n",
    "        while True:\n",
    "            if t<0:\n",
    "                break\n",
    "            beta[t]=A@(B[:,sequence[t+1]]*beta[t+1])\n",
    "            t-=1\n",
    "        return(np.sum(pi*B[:,sequence[0]]*beta[0]),beta)\n",
    "    def Viterbi(A,B,pi,sequence):\n",
    "        N=A.shape[0]\n",
    "        M=B.shape[1]\n",
    "        T=len(sequence)\n",
    "        delta=np.zeros([T,N])\n",
    "        psi=np.zeros([T,N])\n",
    "        delta[0]=pi*B[:,sequence[0]]\n",
    "        t=1\n",
    "        while True:\n",
    "            if t==T:\n",
    "                break\n",
    "            delta_A=delta[t-1,np.newaxis].T*A\n",
    "            delta[t]=np.max(delta_A,axis=0)*B[:,sequence[t]]\n",
    "            psi[t]=np.argmax(delta_A,axis=0)\n",
    "            t+=1\n",
    "        psi=psi.astype(int)\n",
    "        q=np.zeros(T).astype(int)\n",
    "        q[T-1]=np.argmax(delta[T-1])\n",
    "        t=T-2\n",
    "        while True:\n",
    "            if t<0:\n",
    "                break\n",
    "            q[t]=psi[t+1,q[t+1]]\n",
    "            t-=1\n",
    "        return(q)\n",
    "    def Baum_Welch(A,B,pi,sequence,max_iter):\n",
    "        '''Here A, B and pi are initial values'''\n",
    "        N=A.shape[0]\n",
    "        M=B.shape[1]\n",
    "        T=len(sequence)\n",
    "        for i in range(max_iter):\n",
    "            alpha=HMM.forward(A,B,pi,sequence)[1]\n",
    "            beta=HMM.backward(A,B,pi,sequence)[1]\n",
    "            #temporary variables\n",
    "            gamma=alpha*beta/np.sum(alpha*beta,axis=1).reshape((T,1))\n",
    "            #Non-vectorized version for xi\n",
    "            #xi=np.zeros([N,N,T-1])\n",
    "            #for t in range(T-1):\n",
    "            #    xi[:,:,t]=alpha[t].reshape((N,1))*A*beta[t+1]*B[:,sequence[t+1]]\n",
    "            #    xi[:,:,t]=xi[:,:,t]/np.sum(xi[:,:,t])\n",
    "            xi=alpha.T[:,np.newaxis,:-1]*A[:,:,np.newaxis]*(beta*B[:,sequence].T).T[np.newaxis,:,1:]\n",
    "            xi=xi/np.sum(xi,axis=(0,1))\n",
    "            pi=gamma[0]\n",
    "            A=np.sum(xi,axis=0)/np.sum(gamma,axis=0).reshape([N,1])\n",
    "            B=np.zeros([N,M])\n",
    "            for t in range(T):\n",
    "                B[:,sequence[t]]+=gamma[t]\n",
    "            B/np.sum(gamma,axis=0).reshape([N,1])\n",
    "        return(A,B,pi)"
   ]
  },
  {
   "cell_type": "code",
   "execution_count": 83,
   "metadata": {
    "collapsed": false
   },
   "outputs": [
    {
     "name": "stdout",
     "output_type": "stream",
     "text": [
      "0.01535664\n",
      "0.01535664\n",
      "[2 2 0 2]\n"
     ]
    },
    {
     "data": {
      "text/plain": [
       "(array([[ 0.28326472,  0.46607297,  0.1279398 ],\n",
       "        [ 0.15195385,  0.32023844,  0.15982889],\n",
       "        [ 0.38417457,  0.13276357,  0.30341065]]),\n",
       " array([[ 0.15118932,  0.56211515,  0.50711093],\n",
       "        [ 0.28381208,  0.45580283,  0.3484356 ],\n",
       "        [ 0.56499859,  0.98208202,  0.14445347]]),\n",
       " array([ 0.15118932,  0.28381208,  0.56499859]))"
      ]
     },
     "execution_count": 83,
     "metadata": {},
     "output_type": "execute_result"
    }
   ],
   "source": [
    "M=3\n",
    "N=3\n",
    "pi=np.array([.3,.3,.4])\n",
    "A=np.array([[.2,.3,.5],[.1,.5,.4],[.6,.1,.3]])\n",
    "B=np.array([[0.1,0.5,0.4],[0.2,0.4,0.4],[0.3,0.6,0.1]])\n",
    "sequence=[0,1,2,1]\n",
    "print(HMM.forward(A,B,pi,sequence)[0])\n",
    "print(HMM.forward(A,B,pi,sequence)[0])\n",
    "print(HMM.Viterbi(A,B,pi,sequence))\n",
    "HMM.Baum_Welch(A,B,pi,sequence,1)"
   ]
  }
 ],
 "metadata": {
  "kernelspec": {
   "display_name": "Python 3",
   "language": "python",
   "name": "python3"
  },
  "language_info": {
   "codemirror_mode": {
    "name": "ipython",
    "version": 3
   },
   "file_extension": ".py",
   "mimetype": "text/x-python",
   "name": "python",
   "nbconvert_exporter": "python",
   "pygments_lexer": "ipython3",
   "version": "3.5.2"
  }
 },
 "nbformat": 4,
 "nbformat_minor": 2
}
