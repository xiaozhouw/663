{
 "cells": [
  {
   "cell_type": "code",
   "execution_count": 1,
   "metadata": {
    "collapsed": true
   },
   "outputs": [],
   "source": [
    "import numpy as np\n",
    "from numba import jit"
   ]
  },
  {
   "cell_type": "code",
   "execution_count": 2,
   "metadata": {
    "collapsed": true
   },
   "outputs": [],
   "source": [
    "class HMM:\n",
    "    def forward(A,B,pi,N,M,sequence):\n",
    "        T=len(sequence)\n",
    "        alpha=np.zeros([T,N])\n",
    "        alpha[0]=pi*B[:,sequence[0]]\n",
    "        t=1\n",
    "        while True:\n",
    "            if t==T:\n",
    "                break\n",
    "            alpha[t]=alpha[t-1]@A*B[:,sequence[t]]\n",
    "            t+=1\n",
    "        return(np.sum(alpha[T-1]))\n",
    "    def backward(A,B,pi,N,M,sequence):\n",
    "        T=len(sequence)\n",
    "        beta=np.zeros([T,N])\n",
    "        beta[T-1]=1\n",
    "        t=T-2\n",
    "        while True:\n",
    "            if t<0:\n",
    "                break\n",
    "            beta[t]=A@(B[:,sequence[t+1]]*beta[t+1])\n",
    "            t-=1\n",
    "        return(np.sum(pi*B[:,sequence[0]]*beta[0]))\n",
    "    def Viterbi(A,B,pi,N,M,sequence):\n",
    "        T=len(sequence)\n",
    "        delta=np.zeros([T,N])\n",
    "        psi=np.zeros([T,N])\n",
    "        delta[0]=pi*B[:,sequence[0]]\n",
    "        t=1\n",
    "        while True:\n",
    "            if t==T:\n",
    "                break\n",
    "            delta_A=delta[t-1,np.newaxis].T*A\n",
    "            delta[t]=np.max(delta_A,axis=0)*B[:,sequence[t]]\n",
    "            psi[t]=np.argmax(delta_A,axis=0)\n",
    "            t+=1\n",
    "        psi=psi.astype(int)\n",
    "        q=np.zeros(T).astype(int)\n",
    "        q[T-1]=np.argmax(delta[T-1])\n",
    "        t=T-2\n",
    "        while True:\n",
    "            if t<0:\n",
    "                break\n",
    "            q[t]=psi[t+1,q[t+1]]\n",
    "            t-=1\n",
    "        return(q)"
   ]
  },
  {
   "cell_type": "code",
   "execution_count": 3,
   "metadata": {
    "collapsed": false
   },
   "outputs": [
    {
     "name": "stdout",
     "output_type": "stream",
     "text": [
      "0.030162\n",
      "0.030162\n",
      "[2 2 0]\n"
     ]
    }
   ],
   "source": [
    "M=3\n",
    "N=3\n",
    "pi=np.array([.3,.3,.4])\n",
    "A=np.array([[.2,.3,.5],[.1,.5,.4],[.6,.1,.3]])\n",
    "B=np.array([[0.1,0.5,0.4],[0.2,0.4,0.4],[0.3,0.6,0.1]])\n",
    "sequence=[0,1,2]\n",
    "print(HMM.forward(A,B,pi,N,M,sequence))\n",
    "print(HMM.forward(A,B,pi,N,M,sequence))\n",
    "print(HMM.Viterbi(A,B,pi,N,M,sequence))"
   ]
  }
 ],
 "metadata": {
  "kernelspec": {
   "display_name": "Python 3",
   "language": "python",
   "name": "python3"
  },
  "language_info": {
   "codemirror_mode": {
    "name": "ipython",
    "version": 3
   },
   "file_extension": ".py",
   "mimetype": "text/x-python",
   "name": "python",
   "nbconvert_exporter": "python",
   "pygments_lexer": "ipython3",
   "version": "3.5.2"
  }
 },
 "nbformat": 4,
 "nbformat_minor": 2
}
