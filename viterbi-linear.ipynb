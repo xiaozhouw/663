{
 "cells": [
  {
   "cell_type": "code",
   "execution_count": 3,
   "metadata": {
    "collapsed": true
   },
   "outputs": [],
   "source": [
    "import numpy as np\n",
    "from numba import jit\n",
    "from collections import deque"
   ]
  },
  {
   "cell_type": "code",
   "execution_count": null,
   "metadata": {
    "collapsed": true
   },
   "outputs": [],
   "source": [
    "from collections import deque"
   ]
  },
  {
   "cell_type": "code",
   "execution_count": 1,
   "metadata": {
    "collapsed": false
   },
   "outputs": [],
   "source": [
    "    def Viterbi_linear_memory(A,B,pi,sequence):\n",
    "        '''\n",
    "        Viterbi decoding of HMM.\n",
    "        \n",
    "        Parameters\n",
    "        ----------\n",
    "        A: np.ndarray\n",
    "            Stochastic transition matrix.\n",
    "        B: np.ndarray\n",
    "            Emission matrix.\n",
    "        pi: np.1darray\n",
    "            Initial state distribution.\n",
    "        sequence: array-like\n",
    "            The observed sequence.\n",
    "            Need to be converted to integer coded.    \n",
    "        '''\n",
    "        \n",
    "        N=A.shape[0]\n",
    "        M=B.shape[1]\n",
    "        T=len(sequence)\n",
    "        delta=np.zeros([T,N])\n",
    "        psi=np.zeros([T,N])\n",
    "        d = deque([], maxlen=T)\n",
    "        delta[0]=pi*B[:,sequence[0]]\n",
    "        t=1\n",
    "        while True:\n",
    "            if t==T:\n",
    "                break\n",
    "            delta_A=delta[t-1,np.newaxis].T*A\n",
    "            delta[t]=np.max(delta_A,axis=0)*B[:,sequence[t]]\n",
    "            psi[t]=np.argmax(delta_A,axis=0)\n",
    "            t+=1\n",
    "        psi=psi.astype(int)\n",
    "\n",
    "        for i in range(T):\n",
    "            d.append(psi[i])\n",
    "    \n",
    "        q=np.zeros(T).astype(int)\n",
    "        q[T-1]=np.argmax(delta[T-1])\n",
    "\n",
    "        t=T-2\n",
    "        while True:\n",
    "            if t<0:\n",
    "                break\n",
    "            q[t]=d.pop().reshape([N,1])[q[t+1]]\n",
    "            t-=1  "
   ]
  },
  {
   "cell_type": "code",
   "execution_count": null,
   "metadata": {
    "collapsed": true
   },
   "outputs": [],
   "source": []
  }
 ],
 "metadata": {
  "anaconda-cloud": {},
  "kernelspec": {
   "display_name": "Python [default]",
   "language": "python",
   "name": "python3"
  },
  "language_info": {
   "codemirror_mode": {
    "name": "ipython",
    "version": 3
   },
   "file_extension": ".py",
   "mimetype": "text/x-python",
   "name": "python",
   "nbconvert_exporter": "python",
   "pygments_lexer": "ipython3",
   "version": "3.5.2"
  }
 },
 "nbformat": 4,
 "nbformat_minor": 2
}
