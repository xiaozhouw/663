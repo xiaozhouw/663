{
 "cells": [
  {
   "cell_type": "code",
   "execution_count": 5,
   "metadata": {
    "collapsed": true
   },
   "outputs": [],
   "source": [
    "import numpy as np\n",
    "from numba import jit\n",
    "from collections import deque"
   ]
  },
  {
   "cell_type": "code",
   "execution_count": 9,
   "metadata": {
    "collapsed": false
   },
   "outputs": [],
   "source": [
    "    def Viterbi_linear_memory(A,B,pi,sequence):\n",
    "        '''\n",
    "        Viterbi decoding of HMM.\n",
    "        \n",
    "        Parameters\n",
    "        ----------\n",
    "        A: np.ndarray\n",
    "            Stochastic transition matrix.\n",
    "        B: np.ndarray\n",
    "            Emission matrix.\n",
    "        pi: np.1darray\n",
    "            Initial state distribution.\n",
    "        sequence: array-like\n",
    "            The observed sequence.\n",
    "            Need to be converted to integer coded.    \n",
    "        '''\n",
    "        \n",
    "        N=A.shape[0]\n",
    "        M=B.shape[1]\n",
    "        T=len(sequence)\n",
    "        delta=np.zeros([T,N])\n",
    "        psi=np.zeros([T,N])\n",
    "        delta=np.zeros([T,N])\n",
    "        d = deque([], maxlen=T)\n",
    "        delta[0]=pi*B[:,sequence[0]]\n",
    "        t=1\n",
    "        while True:\n",
    "            if t==T:\n",
    "                break\n",
    "            delta_A=delta[t-1,np.newaxis].T*A\n",
    "            delta[t]=np.max(delta_A,axis=0)*B[:,sequence[t]]\n",
    "            d.append(np.argmax(delta_A,axis=0).astype(int))\n",
    "            t+=1\n",
    "\n",
    "        q=np.zeros(T).astype(int)\n",
    "        q[T-1]=np.argmax(delta[T-1])\n",
    "\n",
    "        t=T-2\n",
    "        while True:\n",
    "            if t<0:\n",
    "                break\n",
    "            q[t]=d.pop().reshape([N,1])[q[t+1]]\n",
    "            t-=1  \n",
    "        return q\n"
   ]
  },
  {
   "cell_type": "code",
   "execution_count": 10,
   "metadata": {
    "collapsed": false
   },
   "outputs": [
    {
     "name": "stdout",
     "output_type": "stream",
     "text": [
      "[2 2 0 2 2]\n"
     ]
    }
   ],
   "source": [
    "M=3\n",
    "N=3\n",
    "pi=np.array([.3,.3,.4])\n",
    "A=np.array([[.2,.3,.5],[.1,.5,.4],[.6,.1,.3]])\n",
    "B=np.array([[0.1,0.5,0.4],[0.2,0.4,0.4],[0.3,0.6,0.1]])\n",
    "sequence=[0,1,2,1,0]\n",
    "print(Viterbi_linear_memory(A,B,pi,sequence))"
   ]
  },
  {
   "cell_type": "code",
   "execution_count": null,
   "metadata": {
    "collapsed": true
   },
   "outputs": [],
   "source": []
  }
 ],
 "metadata": {
  "anaconda-cloud": {},
  "kernelspec": {
   "display_name": "Python [default]",
   "language": "python",
   "name": "python3"
  },
  "language_info": {
   "codemirror_mode": {
    "name": "ipython",
    "version": 3
   },
   "file_extension": ".py",
   "mimetype": "text/x-python",
   "name": "python",
   "nbconvert_exporter": "python",
   "pygments_lexer": "ipython3",
   "version": "3.5.2"
  }
 },
 "nbformat": 4,
 "nbformat_minor": 2
}
